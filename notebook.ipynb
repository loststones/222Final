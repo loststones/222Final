{
 "cells": [
  {
   "cell_type": "markdown",
   "metadata": {},
   "source": [
    "Introduction: Briefly describe the project domain, the dataset, your hypotheses, and the classification task you implemented. More specifically:\n",
    "Why is the domain important to you and why you are researching in this domain\n",
    "\n",
    "What is the dataset format (e.g. CSV files, JSON files, a mix of the two, etc.)\n",
    "\n",
    "What tables (emphasis on the plural here) are included in the dataset\n",
    "\n",
    "How is the data in each table collected\n",
    "\n",
    "How many instances are there in each table\n",
    "\n",
    "Include a brief description of the attributes\n",
    "\n",
    "What are you trying to classify in the dataset\n",
    "\n",
    "What are potential impacts of the results\n",
    "\n",
    "Who are stakeholders interested in your results\n"
   ]
  },
  {
   "cell_type": "markdown",
   "metadata": {},
   "source": [
    "We are analyzing our spotify data in order to predict s&p 500 performance based on the genre of music we listened to per day.\n",
    "\n",
    "The data is in a mix of json and csv formats.\n",
    "\n",
    "There are days of the week table, and multiple spotify listening history tables, and a table of s&p 500 performance.\n",
    "\n",
    "The spotify data is collected from spotify.com and the spotify api, and the s&p 500 data is from yahoo finance.\n",
    "\n",
    "The spotify data includes over a year of instances, but we narrowed it to listening data from 50 weekdays (2021-12-12 to 2022-02-27) in order to get more accurate predictions with less noise, and matchup with the stock market schedule.\n",
    "\n",
    "The attributes are: date, most listened to artist, most listened to genre\n",
    "\n",
    "We are trying to classify stock market performance.\n",
    "\n",
    "The potential impacts are we could possibly find out the genre we are listening to is correlated with the stock market.\n",
    "\n",
    "The stakeholders are us, and possibly psychologists/music therapists who want to how the stock market influences music taste."
   ]
  },
  {
   "cell_type": "markdown",
   "metadata": {},
   "source": [
    "## Cleaning the data\n",
    "\n",
    "In the original spotify the date included the date as well as the end time given in coordinated universal time. So cleaning the we did was split the data off into its own column.\n",
    "we also dropped columns such as the name of song and the miliseconds played. In adition, because the stock market only opporates on weekdays, we had to make the df only contain weekday dates(Mon-Fri). We also had to drop the dates of holidays because the stock market is closed on those days as well.\n",
    "\n",
    "#### Mergeing\n",
    "We merged using an inner join on the date, this also functioned to get rid of days where no data had been collected. \n",
    "\n",
    "#### Challenges faced\n",
    "We were trying to use an API that gave data on the stock market, but the API's we found had a limited number of request that we could use. Becuase the spotify data is so extensive, we had to branch away from using the API and instead made a csv file that contained stock information."
   ]
  }
 ],
 "metadata": {
  "interpreter": {
   "hash": "f5962a1f8d3e72ae2d50702cfe2df6c620b07f7310f99f8d449466c0356ac214"
  },
  "kernelspec": {
   "display_name": "Python 3.9.7 ('base')",
   "language": "python",
   "name": "python3"
  },
  "language_info": {
   "codemirror_mode": {
    "name": "ipython",
    "version": 3
   },
   "file_extension": ".py",
   "mimetype": "text/x-python",
   "name": "python",
   "nbconvert_exporter": "python",
   "pygments_lexer": "ipython3",
   "version": "3.9.7"
  },
  "orig_nbformat": 4
 },
 "nbformat": 4,
 "nbformat_minor": 2
}
