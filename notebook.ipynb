{
 "cells": [
  {
   "cell_type": "markdown",
   "metadata": {},
   "source": [
    "Introduction: Briefly describe the project domain, the dataset, your hypotheses, and the classification task you implemented. More specifically:\n",
    "Why is the domain important to you and why you are researching in this domain\n",
    "\n",
    "What is the dataset format (e.g. CSV files, JSON files, a mix of the two, etc.)\n",
    "\n",
    "What tables (emphasis on the plural here) are included in the dataset\n",
    "\n",
    "How is the data in each table collected\n",
    "\n",
    "How many instances are there in each table\n",
    "\n",
    "Include a brief description of the attributes\n",
    "\n",
    "What are you trying to classify in the dataset\n",
    "\n",
    "What are potential impacts of the results\n",
    "\n",
    "Who are stakeholders interested in your results\n"
   ]
  },
  {
   "cell_type": "markdown",
   "metadata": {},
   "source": [
    "We are analyzing our spotify data in order to predict s&p 500 performance based on the genre of music we listened to per day.\n",
    "\n",
    "The data is in a mix of json and csv formats.\n",
    "\n",
    "There are days of the week table, and multiple spotify listening history tables, and a table of s&p 500 performance.\n",
    "\n",
    "The spotify data is collected from spotify.com and the spotify api, and the s&p 500 data is from yahoo finance.\n",
    "\n",
    "The spotify data includes over a year of instances, but we narrowed it to listening data from 50 weekdays (2021-12-12 to 2022-02-27) in order to get more accurate predictions with less noise, and matchup with the stock market schedule.\n",
    "\n",
    "The attributes are: date, most listened to artist, most listened to genre\n",
    "\n",
    "We are trying to classify stock market performance.\n",
    "\n",
    "The potential impacts are we could possibly find out the genre we are listening to is correlated with the stock market.\n",
    "\n",
    "The stakeholders are us, and possibly psychologists/music therapists who want to how the stock market influences music taste."
   ]
  },
  {
   "cell_type": "markdown",
   "metadata": {},
   "source": [
    "## Cleaning the data\n",
    "\n",
    "In the original spotify the date included the date as well as the end time given in coordinated universal time. So cleaning the we did was split the data off into its own column.\n",
    "we also dropped columns such as the name of song and the miliseconds played.\n",
    "\n",
    "#### Mergeing\n",
    "We merged using an inner join on the date, this also functioned to get rid of days where no data had been collected. \n",
    "\n",
    "#### Challenges faced\n",
    "We were trying to use an API that gave data on the stock market, but the API's we found had a limited number of request that we could use. Becuase the spotify data is so extensive, we had to branch away from using the API and instead made a csv file that contained stock information. One of the biggest problem when preparing the data was trying to get the dates from the spotify data to match with the dates for our stock market data. As many of you are probably aware, the stock market does not opperate on the weekends or on holidays, so when trying to compare dates, we had to drop those dates from the spotify data.\n",
    "\n",
    "To fix this we used a csv file that gave the days of week with the date."
   ]
  },
  {
   "cell_type": "code",
   "execution_count": 1,
   "metadata": {},
   "outputs": [
    {
     "name": "stdout",
     "output_type": "stream",
     "text": [
      "          date days of week\n",
      "0   2021-12-15    Wednesday\n",
      "1   2021-12-16     Thursday\n",
      "2   2021-12-17       Friday\n",
      "3   2021-12-18     Saturday\n",
      "4   2021-12-19       Sunday\n",
      "..         ...          ...\n",
      "70  2022-02-23    Wednesday\n",
      "71  2022-02-24     Thursday\n",
      "72  2022-02-25       Friday\n",
      "73  2022-02-26     Saturday\n",
      "74  2022-02-27       Sunday\n",
      "\n",
      "[75 rows x 2 columns]\n"
     ]
    }
   ],
   "source": [
    "import pandas as pd\n",
    "csv_file = pd.read_csv(\"DaysofWeek.csv\")\n",
    "print(csv_file)"
   ]
  },
  {
   "cell_type": "markdown",
   "metadata": {},
   "source": [
    "After appending that on to our original data frame, we could use groupby and get_group to create a new data from that only contains the weekdays, then from that data frame we had to hard code in order to drop the dates that were holidays and not in our stock data, an example of that is Chrismas Eve."
   ]
  }
 ],
 "metadata": {
  "interpreter": {
   "hash": "f5962a1f8d3e72ae2d50702cfe2df6c620b07f7310f99f8d449466c0356ac214"
  },
  "kernelspec": {
   "display_name": "Python 3.9.7 ('base')",
   "language": "python",
   "name": "python3"
  },
  "language_info": {
   "codemirror_mode": {
    "name": "ipython",
    "version": 3
   },
   "file_extension": ".py",
   "mimetype": "text/x-python",
   "name": "python",
   "nbconvert_exporter": "python",
   "pygments_lexer": "ipython3",
   "version": "3.9.7"
  },
  "orig_nbformat": 4
 },
 "nbformat": 4,
 "nbformat_minor": 2
}
